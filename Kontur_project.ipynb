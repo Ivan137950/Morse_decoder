{
  "cells": [
    {
      "cell_type": "markdown",
      "metadata": {
        "id": "view-in-github",
        "colab_type": "text"
      },
      "source": [
        "<a href=\"https://colab.research.google.com/github/Ivan137950/Morse_decoder/blob/main/Kontur_project.ipynb\" target=\"_parent\"><img src=\"https://colab.research.google.com/assets/colab-badge.svg\" alt=\"Open In Colab\"/></a>"
      ]
    },
    {
      "cell_type": "code",
      "execution_count": null,
      "metadata": {
        "id": "J18oP3svXkjQ"
      },
      "outputs": [],
      "source": [
        "# %kaggle competitions download -c morse-decoder\n",
        "# %unzip morse-decoder.zip #for linux users"
      ]
    },
    {
      "cell_type": "code",
      "execution_count": null,
      "metadata": {
        "id": "ddkwh8qXXkjR"
      },
      "outputs": [],
      "source": [
        "import torch\n",
        "import torch.nn as nn\n",
        "import torch.nn.functional as F\n",
        "import torch.optim as optim\n",
        "from torch.utils.data import DataLoader\n",
        "import numpy as np\n",
        "import matplotlib.pyplot as plt\n",
        "import pandas as pd\n",
        "import seaborn as sns\n",
        "import scipy as sp\n",
        "from torch.utils.data import Dataset, DataLoader\n",
        "from sklearn.preprocessing import StandardScaler\n",
        "from sklearn.model_selection import train_test_split\n",
        "from collections import Counter\n",
        "import librosa\n",
        "import numpy as np\n",
        "import librosa.display\n",
        "import matplotlib.pyplot as plt\n",
        "# %pip install python-Levenshtein\n",
        "import Levenshtein\n",
        "from Levenshtein import distance as levenshtein_distance\n",
        "import random\n"
      ]
    },
    {
      "cell_type": "code",
      "execution_count": null,
      "metadata": {
        "id": "zvej3uHeXkjR",
        "outputId": "b53ce789-1ed0-44b6-eb0c-0b2dc9573132"
      },
      "outputs": [
        {
          "name": "stdout",
          "output_type": "stream",
          "text": [
            "cuda\n"
          ]
        }
      ],
      "source": [
        "device = torch.device('cuda' if torch.cuda.is_available() else 'cpu')\n",
        "print(device)"
      ]
    },
    {
      "cell_type": "code",
      "execution_count": null,
      "metadata": {
        "id": "SnB_HeunXkjS",
        "outputId": "7c1ade3e-67ec-4056-c412-3c0b1adacb5c"
      },
      "outputs": [
        {
          "data": {
            "text/html": [
              "<div>\n",
              "<style scoped>\n",
              "    .dataframe tbody tr th:only-of-type {\n",
              "        vertical-align: middle;\n",
              "    }\n",
              "\n",
              "    .dataframe tbody tr th {\n",
              "        vertical-align: top;\n",
              "    }\n",
              "\n",
              "    .dataframe thead th {\n",
              "        text-align: right;\n",
              "    }\n",
              "</style>\n",
              "<table border=\"1\" class=\"dataframe\">\n",
              "  <thead>\n",
              "    <tr style=\"text-align: right;\">\n",
              "      <th></th>\n",
              "      <th>id</th>\n",
              "      <th>message</th>\n",
              "    </tr>\n",
              "  </thead>\n",
              "  <tbody>\n",
              "    <tr>\n",
              "      <th>0</th>\n",
              "      <td>1.opus</td>\n",
              "      <td>03ЩУЫЛПИГХ</td>\n",
              "    </tr>\n",
              "    <tr>\n",
              "      <th>1</th>\n",
              "      <td>2.opus</td>\n",
              "      <td>ЪЛТ0ДС6А3Г</td>\n",
              "    </tr>\n",
              "    <tr>\n",
              "      <th>2</th>\n",
              "      <td>3.opus</td>\n",
              "      <td>5ЭКЫБЗХЯН</td>\n",
              "    </tr>\n",
              "    <tr>\n",
              "      <th>3</th>\n",
              "      <td>4.opus</td>\n",
              "      <td>ЖЫЦОИ68КФ</td>\n",
              "    </tr>\n",
              "    <tr>\n",
              "      <th>4</th>\n",
              "      <td>5.opus</td>\n",
              "      <td>32Ю7МЫ ЗЛ</td>\n",
              "    </tr>\n",
              "    <tr>\n",
              "      <th>...</th>\n",
              "      <td>...</td>\n",
              "      <td>...</td>\n",
              "    </tr>\n",
              "    <tr>\n",
              "      <th>29990</th>\n",
              "      <td>29991.opus</td>\n",
              "      <td>ФЬЧЗШЖШЦБ</td>\n",
              "    </tr>\n",
              "    <tr>\n",
              "      <th>29991</th>\n",
              "      <td>29992.opus</td>\n",
              "      <td>1ЬИЗЙРН С</td>\n",
              "    </tr>\n",
              "    <tr>\n",
              "      <th>29992</th>\n",
              "      <td>29993.opus</td>\n",
              "      <td>ШО3Ч Р4А</td>\n",
              "    </tr>\n",
              "    <tr>\n",
              "      <th>29993</th>\n",
              "      <td>29994.opus</td>\n",
              "      <td>2ЭИ КЙ4</td>\n",
              "    </tr>\n",
              "    <tr>\n",
              "      <th>29994</th>\n",
              "      <td>29995.opus</td>\n",
              "      <td>#ЬА ПЩНР</td>\n",
              "    </tr>\n",
              "  </tbody>\n",
              "</table>\n",
              "<p>29995 rows × 2 columns</p>\n",
              "</div>"
            ],
            "text/plain": [
              "               id     message\n",
              "0          1.opus  03ЩУЫЛПИГХ\n",
              "1          2.opus  ЪЛТ0ДС6А3Г\n",
              "2          3.opus   5ЭКЫБЗХЯН\n",
              "3          4.opus   ЖЫЦОИ68КФ\n",
              "4          5.opus   32Ю7МЫ ЗЛ\n",
              "...           ...         ...\n",
              "29990  29991.opus   ФЬЧЗШЖШЦБ\n",
              "29991  29992.opus   1ЬИЗЙРН С\n",
              "29992  29993.opus    ШО3Ч Р4А\n",
              "29993  29994.opus     2ЭИ КЙ4\n",
              "29994  29995.opus    #ЬА ПЩНР\n",
              "\n",
              "[29995 rows x 2 columns]"
            ]
          },
          "execution_count": 8,
          "metadata": {},
          "output_type": "execute_result"
        }
      ],
      "source": [
        "df = pd.read_csv('train.csv')\n",
        "df_test = pd.read_csv('test.csv')\n",
        "df.head(-5)"
      ]
    },
    {
      "cell_type": "code",
      "execution_count": null,
      "metadata": {
        "id": "g_UVapVdXkjS",
        "outputId": "de7b8212-16ec-4300-8fcc-ec4099627df6"
      },
      "outputs": [
        {
          "data": {
            "image/png": "[encoded data removed]",
            "text/plain": [
              "<Figure size 1200x600 with 1 Axes>"
            ]
          },
          "metadata": {},
          "output_type": "display_data"
        }
      ],
      "source": [
        "counter = Counter()\n",
        "for i in range(len(df)):\n",
        "    counter.update(df['message'][i])\n",
        "\n",
        "\n",
        "keys = list(counter.keys())\n",
        "values = list(counter.values())\n",
        "\n",
        "# Создание гистограммы\n",
        "fig, ax = plt.subplots(figsize=(12, 6))\n",
        "plt.bar(keys, values)\n",
        "plt.xlabel(\"Буквы\")\n",
        "plt.ylabel(\"Частота\")\n",
        "plt.title(\"Частота букв в сообщениях\")\n",
        "plt.grid(True)"
      ]
    },
    {
      "cell_type": "code",
      "execution_count": null,
      "metadata": {
        "id": "gl6t6MTsXkjT"
      },
      "outputs": [],
      "source": [
        "\n",
        "\n",
        "def extract_features(file_path):\n",
        "    # Загрузка аудиофайла\n",
        "    y, sr = librosa.load(file_path, sr=None)\n",
        "\n",
        "    # Вычисление мел-спектрограммы\n",
        "    mel_spec = librosa.feature.melspectrogram(y=y, sr=sr)\n",
        "\n",
        "    # Преобразование в дБ\n",
        "    mel_spec_db = librosa.power_to_db(mel_spec, ref=np.max)\n",
        "\n",
        "    return mel_spec_db, sr\n",
        "\n",
        "# Путь к вашему аудиофайлу\n",
        "path = \"C:/Users/limon/Favorites/python_2024/kont/morse-decoder/morse_dataset/morse_dataset/\"\n",
        "\n",
        "mel_df = np.array([])"
      ]
    },
    {
      "cell_type": "code",
      "execution_count": null,
      "metadata": {
        "id": "Lwn56srlXkjT",
        "outputId": "95fce51e-e15f-47a4-a6b5-93cb228b306f"
      },
      "outputs": [
        {
          "name": "stdout",
          "output_type": "stream",
          "text": [
            "start\n",
            "there were [] read\n",
            "0 read\n",
            "1000 read\n",
            "2000 read\n",
            "3000 read\n",
            "4000 read\n",
            "5000 read\n",
            "6000 read\n",
            "7000 read\n",
            "8000 read\n",
            "9000 read\n",
            "10000 read\n",
            "11000 read\n",
            "12000 read\n",
            "13000 read\n",
            "14000 read\n",
            "15000 read\n",
            "16000 read\n",
            "17000 read\n",
            "18000 read\n",
            "19000 read\n",
            "20000 read\n",
            "21000 read\n",
            "22000 read\n",
            "23000 read\n",
            "24000 read\n",
            "25000 read\n",
            "26000 read\n",
            "27000 read\n",
            "28000 read\n",
            "29000 read\n"
          ]
        }
      ],
      "source": [
        "print(\"start\")\n",
        "print(\"there were \" + str(mel_df) + \" read\")\n",
        "\n",
        "mel_list = []\n",
        "for i in range(len(df['id'])):\n",
        "    mel_spec_db, sr = extract_features(path + df['id'][i])\n",
        "    mel_list.append(mel_spec_db)  #Ни в коем случае не менять на np.append, так как это будет очень долго\n",
        "    if i % 1000 == 0:\n",
        "        print(i, \"read\")\n",
        "mel_df = np.array(mel_list)\n"
      ]
    },
    {
      "cell_type": "code",
      "execution_count": null,
      "metadata": {
        "id": "uY2oRp6UXkjT",
        "outputId": "f6d43904-20de-427c-fdc8-8d9074fefe5e"
      },
      "outputs": [
        {
          "data": {
            "text/plain": [
              "((30000, 128, 126), (30000,))"
            ]
          },
          "execution_count": 371,
          "metadata": {},
          "output_type": "execute_result"
        }
      ],
      "source": [
        "mel_df.shape\n",
        "data = mel_df.reshape(-1, mel_spec_db.shape[0], mel_spec_db.shape[1])\n",
        "labels = df['message'].values\n",
        "data.shape, labels.shape"
      ]
    },
    {
      "cell_type": "markdown",
      "metadata": {
        "id": "J6j5mn7DXkjT"
      },
      "source": [
        "локальная нормализация данных"
      ]
    },
    {
      "cell_type": "code",
      "execution_count": null,
      "metadata": {
        "id": "VdihS2G1XkjU"
      },
      "outputs": [],
      "source": [
        "from sklearn.preprocessing import MinMaxScaler\n",
        "\n",
        "\n",
        "def normalize_spec_per_example(spec):\n",
        "    scaler = StandardScaler()\n",
        "    spec_T = spec\n",
        "    normed = scaler.fit_transform(spec_T)\n",
        "    return normed\n",
        "\n",
        "def normalize_spec_mm(spec):\n",
        "    scaler = MinMaxScaler()\n",
        "    normed = scaler.fit_transform(spec)\n",
        "    return normed\n",
        "\n",
        "X_normed = np.array([normalize_spec_per_example(spec) for spec in data]) # Хочу нормализовать каждый пример отдельно. Может быть, в этом есть смысл\n",
        "# X_normed = np.array([normalize_spec_mm(spec) for spec in X_normed_1])\n",
        "\n"
      ]
    },
    {
      "cell_type": "code",
      "execution_count": null,
      "metadata": {
        "id": "B3XSoUuUXkjU"
      },
      "outputs": [],
      "source": [
        "labels_unique = set() # Набор уникальных символов\n",
        "for label in labels:\n",
        "    labels_unique.update(label)\n",
        "labels_unique = list(labels_unique)\n",
        "labels_unique.sort()\n",
        "labels_unique_dict = {label: i + 1 for i, label in enumerate(labels_unique)}\n",
        "labels_unique_dict[\"<blank>\"] = 0\n",
        "\n",
        "\n",
        "new_labels = [] # Список для новых меток\n",
        "for label in labels:\n",
        "     new_labels.append([labels_unique_dict[char] for char in label])\n",
        "# new_labels[0], new_labels[1], new_labels[2], new_labels[3], new_labels[4]\n",
        "\n",
        "\n",
        "spect_train, spect_val, y_train, y_val = train_test_split(X_normed, new_labels, test_size=0.2, shuffle=True)\n"
      ]
    },
    {
      "cell_type": "markdown",
      "metadata": {
        "id": "4iwxNosaXkjV"
      },
      "source": [
        "---\n",
        "\n",
        "Погдотовим датасеты для основной нейронной сети\n",
        "\n",
        "---"
      ]
    },
    {
      "cell_type": "code",
      "execution_count": null,
      "metadata": {
        "id": "qvEnyiSqXkjV",
        "outputId": "c2fa8321-b2ca-4227-9cc1-666837e82f89"
      },
      "outputs": [
        {
          "data": {
            "text/plain": [
              "(6000, 128, 126)"
            ]
          },
          "execution_count": 375,
          "metadata": {},
          "output_type": "execute_result"
        }
      ],
      "source": [
        "class SpeachDataset(Dataset):\n",
        "    def __init__(self, input, words):\n",
        "        self.input = input\n",
        "        self.words = words\n",
        "        # self.char_to_index = char_to_index\n",
        "\n",
        "    def __len__(self):\n",
        "        return len(self.input)\n",
        "\n",
        "    def __getitem__(self, index):\n",
        "        # return super().__getitem__(index)\n",
        "        mel_tesor = torch.tensor(self.input[index], dtype=torch.float32)\n",
        "        word = self.words[index]\n",
        "        label = torch.tensor([letter for letter in word], dtype=torch.long)\n",
        "        return mel_tesor, label\n",
        "\n",
        "\n",
        "def collate_fn(batch):\n",
        "    mels, targets = zip(*batch)\n",
        "\n",
        "    input_lengths = torch.tensor([mel.shape[0] for mel in mels], dtype=torch.long)\n",
        "    mels_padded = torch.stack(mels, dim=0)\n",
        "\n",
        "    target_lens = torch.tensor([t.shape[0] for t in targets], dtype=torch.long)\n",
        "    targets_concat = torch.cat(targets)\n",
        "\n",
        "    return input_lengths, mels_padded, target_lens, targets_concat\n",
        "\n",
        "\n",
        "train_dataset_encoded = SpeachDataset(spect_train, y_train)\n",
        "train_loader = DataLoader(train_dataset_encoded, batch_size=32, collate_fn=collate_fn, shuffle=True)\n",
        "\n",
        "val_dataset_encoded = SpeachDataset(spect_val, y_val)\n",
        "val_loader = DataLoader(val_dataset_encoded, batch_size=32, collate_fn=collate_fn, shuffle=False)\n",
        "val_dataset_encoded.input.shape"
      ]
    },
    {
      "cell_type": "code",
      "execution_count": null,
      "metadata": {
        "id": "5l_MATLVXkjV",
        "outputId": "de5f20ae-eb13-449a-b592-849910ec133c"
      },
      "outputs": [
        {
          "name": "stdout",
          "output_type": "stream",
          "text": [
            "torch.Size([32]) torch.Size([32, 128, 126]) torch.Size([32]) torch.Size([293])\n"
          ]
        }
      ],
      "source": [
        "for input_lengths, mels_padded, target_lengths, targets_concat in val_loader:\n",
        "    print(input_lengths.shape, mels_padded.shape, target_lengths.shape, targets_concat.shape)\n",
        "    break"
      ]
    },
    {
      "cell_type": "markdown",
      "metadata": {
        "id": "aGaZcr0RXkjV"
      },
      "source": [
        "Ряд нужных в будущем функций"
      ]
    },
    {
      "cell_type": "code",
      "execution_count": null,
      "metadata": {
        "id": "__AnvjWLXkjV"
      },
      "outputs": [],
      "source": [
        "def clean_ctc_output(seq, blank=0):\n",
        "    cleaned = []\n",
        "    prev = None\n",
        "    for x in seq:\n",
        "        if x != blank and x != prev:\n",
        "            cleaned.append(x)\n",
        "        prev = x\n",
        "    return cleaned\n",
        "\n",
        "\n",
        "def greedy_decode(logits, blank=0):\n",
        "    pred = torch.argmax(logits, dim=2).transpose(0, 1)\n",
        "    decoded = []\n",
        "    for seq in pred:\n",
        "        decoded.append(clean_ctc_output(seq.cpu().tolist(), blank))\n",
        "    return decoded\n",
        "\n",
        "\n",
        "def split_targets(targets_concat, target_lens):\n",
        "    targets = []\n",
        "    offset = 0\n",
        "    for length in target_lens:\n",
        "        targets.append(targets_concat[offset:offset + length].tolist())\n",
        "        offset += length\n",
        "    return targets\n",
        "\n",
        "\n",
        "def levenshtein_mean(decoded, targets):\n",
        "    total = 0\n",
        "    for pred, true in zip(decoded, targets):\n",
        "        total += levenshtein_distance(pred, true)\n",
        "    return total / len(decoded)\n",
        "\n",
        "\n",
        "\n",
        "def bagging_dataset(data, new_labels, percantage=0.2):\n",
        "    train_data, _, labels, _ = train_test_split(data, new_labels, test_size=percantage, shuffle=True)\n",
        "    return train_data, labels"
      ]
    },
    {
      "cell_type": "markdown",
      "metadata": {
        "id": "oeFZT4QHXkjV"
      },
      "source": [
        "---\n",
        "\n",
        "Модель\n",
        "\n",
        "---"
      ]
    },
    {
      "cell_type": "code",
      "execution_count": null,
      "metadata": {
        "id": "Kw572XqPXkjV"
      },
      "outputs": [],
      "source": [
        "class CTC_Model(nn.Module):\n",
        "    def __init__(self, input_dim, hidden_dim, vocab_size, num_layers=2):\n",
        "        super().__init__()\n",
        "        self.cnn = nn.Sequential(\n",
        "            nn.Conv2d(1, 32, kernel_size=3, padding=1),\n",
        "            nn.BatchNorm2d(32),\n",
        "            nn.ReLU(),\n",
        "            nn.MaxPool2d((1, 2)),\n",
        "\n",
        "            nn.Conv2d(32, 64, kernel_size=3, padding=1),\n",
        "            nn.BatchNorm2d(64),\n",
        "            nn.ReLU(),\n",
        "            nn.MaxPool2d((1, 2)),\n",
        "\n",
        "            nn.Conv2d(64, 128, kernel_size=3, padding=1),\n",
        "            nn.BatchNorm2d(128),\n",
        "            nn.ReLU(),\n",
        "            nn.MaxPool2d((1, 2)),\n",
        "\n",
        "            nn.Conv2d(128, 256, kernel_size=3, padding=1),\n",
        "            nn.BatchNorm2d(256),\n",
        "            nn.ReLU(),\n",
        "            nn.MaxPool2d((1, 2))\n",
        "        )\n",
        "\n",
        "        self.dropout = nn.Dropout(0.3)\n",
        "        self.lstm = nn.GRU(256 * (input_dim // 16), hidden_dim, num_layers=num_layers, dropout=0.15, bidirectional=True, batch_first=True)\n",
        "        self.fc = nn.Linear(hidden_dim * 2, vocab_size)\n",
        "\n",
        "    def forward(self, x):\n",
        "        # print(f\"изначальная форма: {x.shape}\" )\n",
        "        x = x.unsqueeze(1)\n",
        "        x = self.cnn(x)\n",
        "        # print(f\"После CNN: {x.shape}\")\n",
        "        x = x.permute(0, 2, 1, 3)\n",
        "        # print(f\"После permute: {x.shape}\")\n",
        "        x = x.flatten(2)\n",
        "        # print(f\"После flatten: {x.shape}\")\n",
        "        x = self.dropout(x)\n",
        "        output, _ = self.lstm(x)\n",
        "        # print(f\"После lstm: {output.shape}\")\n",
        "        logits = self.fc(output)\n",
        "        # print(f\"После Linear: {logits.shape}\")\n",
        "        return logits\n"
      ]
    },
    {
      "cell_type": "code",
      "execution_count": null,
      "metadata": {
        "id": "NUDTqbcQXkjV"
      },
      "outputs": [],
      "source": [
        "input_dim = 126\n",
        "hidden_dim = 256\n",
        "vocab_size = 45\n"
      ]
    },
    {
      "cell_type": "code",
      "execution_count": null,
      "metadata": {
        "id": "9IKiMgbmXkjW"
      },
      "outputs": [],
      "source": [
        "train_history, val_history, val_lev_history = [], [], []\n",
        "epochs = random.randint(60, 100)\n",
        "model = CTC_Model(input_dim, hidden_dim, vocab_size, num_layers=3).to(device)\n",
        "# trained_model, train_history, val_history, val_lev_history = train_model(model, spect_train, y_train, val_loader=val_loader, epochs=epochs)"
      ]
    },
    {
      "cell_type": "code",
      "source": [
        "print(device)\n",
        "\n",
        "# def train_model(model, train_data, train_labels, val_loader, epochs=10):\n",
        "train_histories =  []\n",
        "epochs = 100\n",
        "model.train()\n",
        "train_dataset = SpeachDataset(spect_train, y_train)\n",
        "train_loader = DataLoader(train_dataset, batch_size=32, collate_fn=collate_fn, shuffle=True)\n",
        "\n",
        "optimizer = torch.optim.Adam(model.parameters(), lr=0.001)\n",
        "criterion = nn.CTCLoss(blank=0)\n",
        "\n",
        "for epoch in range(100):\n",
        "    # print(f\"Epoch {epoch + 1}/{epochs}\")\n",
        "    if epoch > 5:\n",
        "        for param_group in optimizer.param_groups:\n",
        "            param_group['lr'] = 0.001\n",
        "    if epoch > 30:\n",
        "        for param_group in optimizer.param_groups:\n",
        "            param_group['lr'] = 0.0005\n",
        "    if epoch > 50:\n",
        "        for param_group in optimizer.param_groups:\n",
        "            param_group['lr'] = 0.00005\n",
        "    model.train()\n",
        "    total_loss = 0\n",
        "    for i, batch in enumerate(train_loader):\n",
        "        # if i % 100 == 0:\n",
        "        #     print(f\"Batch {i + 1}/{len(train_loader)}\")\n",
        "        # print(f\"Batch {i + 1}/{len(train_loader)}\")\n",
        "        input_lengths, mels_padded, target_lens, targets_concat = batch\n",
        "\n",
        "        input_lengths = input_lengths.to(device)\n",
        "        mels_padded = mels_padded.to(device)\n",
        "        target_lens = target_lens.to(device)\n",
        "        targets_concat = targets_concat.to(device)\n",
        "\n",
        "        optimizer.zero_grad()\n",
        "        logits = model(mels_padded)\n",
        "        logits = logits.log_softmax(2).transpose(0, 1)  # (T, N, C)\n",
        "\n",
        "        loss = criterion(logits, targets_concat, input_lengths, target_lens)\n",
        "        loss.backward()\n",
        "        optimizer.step()\n",
        "        total_loss += loss.item()\n",
        "\n",
        "    avg_loss = total_loss / len(train_loader)\n",
        "    train_histories.append(avg_loss)\n",
        "\n",
        "    #  Evaluate Levenshtein on validation set\n",
        "    model.eval()\n",
        "    val_lev_total = 0\n",
        "    val_loss = 0\n",
        "    total_samples = 0\n",
        "    val_histories = []\n",
        "    val_leven_histories = []\n",
        "    with torch.no_grad():\n",
        "        for batch in val_loader:\n",
        "            input_lengths, mels_padded, target_lens, targets_concat = batch\n",
        "\n",
        "            input_lengths = input_lengths.to(device)\n",
        "            mels_padded = mels_padded.to(device)\n",
        "            target_lens = target_lens.to(device)\n",
        "            targets_concat = targets_concat.to(device)\n",
        "\n",
        "            logits = model(mels_padded)\n",
        "            logits = logits.log_softmax(2).transpose(0, 1)  # (T, N, C)\n",
        "\n",
        "            decoded = greedy_decode(logits)\n",
        "            targets = split_targets(targets_concat, target_lens)\n",
        "\n",
        "            val_lev_total += sum(levenshtein_distance(p, t) for p, t in zip(decoded, targets))\n",
        "            total_samples += len(targets)\n",
        "            val_loss += criterion(logits, targets_concat, input_lengths, target_lens).item()\n",
        "\n",
        "    val_lev_mean = val_lev_total / total_samples\n",
        "    avg_val_loss = val_loss / len(val_loader)\n",
        "    val_histories.append(avg_val_loss)\n",
        "    val_leven_histories.append(val_lev_mean)\n",
        "\n",
        "    print(f\"Epoch {epoch+1}/{epochs} | Loss: {avg_loss:.4f} | Val Loss: {avg_val_loss:.4f} | Levenshtein Mean Val: {val_lev_mean:.2f}\")\n",
        "    # return model, train_histories, val_histories, val_leven_histories\n"
      ],
      "metadata": {
        "id": "FWxG4Nx9Xohv"
      },
      "execution_count": null,
      "outputs": []
    }
  ],
  "metadata": {
    "colab": {
      "provenance": [],
      "include_colab_link": true
    },
    "kernelspec": {
      "display_name": "Python 3",
      "name": "python3"
    },
    "language_info": {
      "codemirror_mode": {
        "name": "ipython",
        "version": 3
      },
      "file_extension": ".py",
      "mimetype": "text/x-python",
      "name": "python",
      "nbconvert_exporter": "python",
      "pygments_lexer": "ipython3",
      "version": "3.11.4"
    }
  },
  "nbformat": 4,
  "nbformat_minor": 0
}